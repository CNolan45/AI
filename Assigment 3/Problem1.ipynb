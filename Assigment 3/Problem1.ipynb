{
  "nbformat": 4,
  "nbformat_minor": 0,
  "metadata": {
    "colab": {
      "provenance": []
    },
    "kernelspec": {
      "name": "python3",
      "display_name": "Python 3"
    },
    "language_info": {
      "name": "python"
    }
  },
  "cells": [
    {
      "cell_type": "markdown",
      "source": [
        "#Assigment 3 - Part 1\n",
        "###XLST Artificial Intelligence D01 Spring 2024\n",
        "######*Chris Nolan*"
      ],
      "metadata": {
        "id": "3U1t6Zn4rYcJ"
      }
    },
    {
      "cell_type": "markdown",
      "source": [
        "In a social media platform, two users can be represented by nodes and an edge between them that determines some form of professional or personal connection. An undirected edge can indicate that both are friends while a directed edge would mean that only one follows the other in the direction of the edge.\n",
        "\n",
        "We can use BFS to gain general insights about users such as:\n",
        "\n",
        "* Finding all the friends of all the people in the network.\n",
        "*Finding all the mutual friends for a node in the network.\n",
        "*Finding the nth level friends for a person in the network.\n",
        "*Etc.\n",
        "\n",
        "In the graph below, we have a social network which has a provision such that two users with ids 1 and 2 can become friends when 1 sends a request to 2 and 2 accepts or vice versa. So, if User 1 and User 2 are friends, and User 2 and User 3 are friends, then with respect to User 1, User 2 is a first-level friend and User 3 is a second-level friend. Similarly if Users 4 and 5 are friends with 3, then with respect to User 1, Users 4 and 5 are third-level friends of User 1, and so on."
      ],
      "metadata": {
        "id": "C_6nrjG1roUu"
      }
    },
    {
      "cell_type": "markdown",
      "source": [
        "First I will implement the BFS algorithm so I can use it to answer the problem above"
      ],
      "metadata": {
        "id": "nek_T5H7r9F0"
      }
    },
    {
      "cell_type": "code",
      "execution_count": 35,
      "metadata": {
        "id": "5PscwZjnqXAn"
      },
      "outputs": [],
      "source": [
        "from collections import deque\n",
        "\n",
        "# Start the graph search from root using a doubly-ended queue\n",
        "\n",
        "def FindFriends(graph, root, level):\n",
        "\n",
        "    # deque is list-like container with fast appends and pops on either end\n",
        "    visited, queue = set(), deque([root])\n",
        "    visited.add(root)\n",
        "    vertAtThisLevel = 0\n",
        "    vertAtLastLevel = 1\n",
        "    currentLevel = 0\n",
        "    currentVert = 0\n",
        "\n",
        "\n",
        "    # Keep exploring as long as the queue is not empty\n",
        "    while queue:\n",
        "\n",
        "        # Dequeue a vertex from queue\n",
        "        vertex = queue.popleft()\n",
        "        currentVert = currentVert + 1\n",
        "        if currentLevel == level:\n",
        "          print(vertex, end=\" \")\n",
        "\n",
        "        # If not visited, mark it as visited, and enqueue it\n",
        "        for neighbor in graph[vertex]:\n",
        "            if neighbor not in visited:\n",
        "                visited.add(neighbor)\n",
        "                vertAtThisLevel = vertAtThisLevel + 1\n",
        "                queue.append(neighbor)\n",
        "\n",
        "        # print(vertex, vertAtLastLevel, currentVert)\n",
        "        if currentVert == vertAtLastLevel:\n",
        "          currentLevel = currentLevel + 1\n",
        "          currentVert = 0\n",
        "          vertAtLastLevel = vertAtThisLevel\n",
        "          vertAtThisLevel = 0\n",
        "\n"
      ]
    },
    {
      "cell_type": "markdown",
      "source": [
        "The task is to use the BFS algorithm to return the kth-level friend for a given user and graph: FindFriends(G, User, K). Test your algorithm on the network shown below:\n",
        "\n",
        "FindFriends(G, 'Bob', 3) should print Amy and Anna."
      ],
      "metadata": {
        "id": "5DmlwXDnzqHI"
      }
    },
    {
      "cell_type": "code",
      "source": [
        "graph1 = {\n",
        " 'Bob' : ['Pam','Rob','Richard'],\n",
        " 'Pam' : ['Rodger', 'Peter'],\n",
        " 'Peter' : ['Amy'],\n",
        " 'Amy' : [],\n",
        " 'Anna' : [],\n",
        " 'Richard' : [],\n",
        " 'Rodger' : ['Anna'],\n",
        " 'Rob' : []\n",
        "}\n",
        "\n",
        "FindFriends(graph1, 'Bob', 3)"
      ],
      "metadata": {
        "colab": {
          "base_uri": "https://localhost:8080/"
        },
        "id": "A_zBh2zhzpLW",
        "outputId": "1e4a8787-ae23-4a39-f956-a141d0ba2c1e"
      },
      "execution_count": 36,
      "outputs": [
        {
          "output_type": "stream",
          "name": "stdout",
          "text": [
            "Anna Amy "
          ]
        }
      ]
    }
  ]
}