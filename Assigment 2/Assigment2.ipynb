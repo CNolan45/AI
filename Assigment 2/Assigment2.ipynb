{
  "nbformat": 4,
  "nbformat_minor": 0,
  "metadata": {
    "colab": {
      "provenance": []
    },
    "kernelspec": {
      "name": "python3",
      "display_name": "Python 3"
    },
    "language_info": {
      "name": "python"
    }
  },
  "cells": [
    {
      "cell_type": "markdown",
      "source": [
        "#Assigment 2 - Python\n",
        "###Artificial Intelligence D01 Spring 2024\n",
        "######*Chris Nolan*"
      ],
      "metadata": {
        "id": "TMr_C1fjtNBU"
      }
    },
    {
      "cell_type": "markdown",
      "source": [
        "First I created a class to represent the states of the puzzle and the rules of the puzzle"
      ],
      "metadata": {
        "id": "SAkIIh5V1D4W"
      }
    },
    {
      "cell_type": "code",
      "execution_count": 6,
      "metadata": {
        "id": "sW9p18uGtKNq"
      },
      "outputs": [],
      "source": [
        "\n",
        "class WaterJugPuzzle():\n",
        "\n",
        "    # We model the state using two sets of strings: 5L bucket and 3L bucket\n",
        "    def __init__(self):\n",
        "        self.FiveL  = 0\n",
        "        self.ThreeL = 0\n",
        "\n",
        "    ####################################################################\n",
        "    # Rule 1: Pour 5L bucket into 3L bucket.\n",
        "    ####################################################################\n",
        "    def FiveIntoThree(self):\n",
        "\n",
        "        EmptySpaceInTarget = (3 - self.ThreeL)\n",
        "\n",
        "        if self.FiveL < EmptySpaceInTarget:\n",
        "          self.ThreeL = self.ThreeL + self.FiveL\n",
        "          self.FiveL = 0\n",
        "        elif self.FiveL >= EmptySpaceInTarget:\n",
        "          self.FiveL = self.FiveL - EmptySpaceInTarget\n",
        "          self.ThreeL = self.ThreeL + EmptySpaceInTarget\n",
        "\n",
        "    ####################################################################\n",
        "    # Rule 2: Pour 3L bucket into 5L bucket.\n",
        "    ####################################################################\n",
        "    def ThreeIntoFive(self):\n",
        "\n",
        "        EmptySpaceInTarget = (5 - self.FiveL)\n",
        "\n",
        "        if self.ThreeL < EmptySpaceInTarget:\n",
        "          self.FiveL = self.ThreeL + self.FiveL\n",
        "          self.ThreeL = 0\n",
        "        elif self.ThreeL >= EmptySpaceInTarget:\n",
        "          self.ThreeL = self.ThreeL - EmptySpaceInTarget\n",
        "          self.FiveL = self.FiveL + EmptySpaceInTarget\n",
        "\n",
        "    ####################################################################\n",
        "    # Rule 3: Empty the 5L bucket\n",
        "    ####################################################################\n",
        "    def Empty5L(self):\n",
        "\n",
        "        self.FiveL = 0\n",
        "\n",
        "    ####################################################################\n",
        "    # Rule 4: Empty the 3L bucket\n",
        "    ####################################################################\n",
        "    def Empty3L(self):\n",
        "\n",
        "        self.ThreeL = 0\n",
        "\n",
        "    ####################################################################\n",
        "    # Rule 5: Fill the 5L bucket\n",
        "    ####################################################################\n",
        "    def Fill5L(self):\n",
        "\n",
        "        self.FiveL = 5\n",
        "\n",
        "    ####################################################################\n",
        "    # Rule 6: Empty the 3L bucket\n",
        "    ####################################################################\n",
        "    def Fill3L(self):\n",
        "\n",
        "        self.ThreeL = 3\n",
        "\n",
        "    ####################################################################\n",
        "    # Display what is filled\n",
        "    ####################################################################\n",
        "    def print_state(self):\n",
        "        print(\"===> 5L: {s}, 3L: {h}\".format(s=self.FiveL, h=self.ThreeL))\n",
        "\n"
      ]
    },
    {
      "cell_type": "markdown",
      "source": [
        "Then I run the rules to create the goal state of 4L in one bucket"
      ],
      "metadata": {
        "id": "89qVkl_k11Bt"
      }
    },
    {
      "cell_type": "code",
      "source": [
        "#@title Forming the Solution\n",
        "\n",
        "wjp = WaterJugPuzzle()\n",
        "\n",
        "# print the initial state\n",
        "wjp.print_state()\n",
        "\n",
        "\n",
        "print(\"-----------------------\")\n",
        "# apply a rule and print the resulting state\n",
        "wjp.Fill5L()\n",
        "wjp.print_state()\n",
        "\n",
        "print(\"-----------------------\")\n",
        "# apply a rule and print the resulting state\n",
        "wjp.FiveIntoThree()\n",
        "wjp.print_state()\n",
        "\n",
        "print(\"-----------------------\")\n",
        "# apply a rule and print the resulting state\n",
        "wjp.Empty3L()\n",
        "wjp.print_state()\n",
        "\n",
        "print(\"-----------------------\")\n",
        "# apply a rule and print the resulting state\n",
        "wjp.FiveIntoThree()\n",
        "wjp.print_state()\n",
        "\n",
        "print(\"-----------------------\")\n",
        "# apply a rule and print the resulting state\n",
        "wjp.Fill5L()\n",
        "wjp.print_state()\n",
        "\n",
        "print(\"-----------------------\")\n",
        "# apply a rule and print the resulting state\n",
        "wjp.FiveIntoThree()\n",
        "wjp.print_state()\n",
        "print(\"Goal State Reached\")"
      ],
      "metadata": {
        "colab": {
          "base_uri": "https://localhost:8080/"
        },
        "id": "OjJ2dQCZ2kHd",
        "outputId": "57a553aa-f397-4dc7-bf2c-84dbd454c4d3"
      },
      "execution_count": 9,
      "outputs": [
        {
          "output_type": "stream",
          "name": "stdout",
          "text": [
            "===> 5L: 0, 3L: 0\n",
            "-----------------------\n",
            "===> 5L: 5, 3L: 0\n",
            "-----------------------\n",
            "===> 5L: 2, 3L: 3\n",
            "-----------------------\n",
            "===> 5L: 2, 3L: 0\n",
            "-----------------------\n",
            "===> 5L: 0, 3L: 2\n",
            "-----------------------\n",
            "===> 5L: 5, 3L: 2\n",
            "-----------------------\n",
            "===> 5L: 4, 3L: 3\n",
            "Goal State Reached\n"
          ]
        }
      ]
    }
  ]
}