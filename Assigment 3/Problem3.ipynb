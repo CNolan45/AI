{
  "nbformat": 4,
  "nbformat_minor": 0,
  "metadata": {
    "colab": {
      "provenance": []
    },
    "kernelspec": {
      "name": "python3",
      "display_name": "Python 3"
    },
    "language_info": {
      "name": "python"
    }
  },
  "cells": [
    {
      "cell_type": "markdown",
      "source": [
        "#Assigment 3 - Part 3\n",
        "###XLST Artificial Intelligence D01 Spring 2024\n",
        "######*Chris Nolan*"
      ],
      "metadata": {
        "id": "bH1MN0BYBTUr"
      }
    },
    {
      "cell_type": "markdown",
      "source": [
        "Write a DFS algorithm which when given a start node and a goal node, it returns SUCCESS if the goal is reachable and FAILURE otherwise. Your algorithm should test both graphs shown below and return SUCCESS for the first graph and FAILURE for the second one."
      ],
      "metadata": {
        "id": "H9n3rV5DBS7f"
      }
    },
    {
      "cell_type": "markdown",
      "source": [
        "First I will make the DFS algorithm then modify it to tell us if the maze can be solved"
      ],
      "metadata": {
        "id": "d2GIQ0WyBqqO"
      }
    },
    {
      "cell_type": "code",
      "execution_count": 11,
      "metadata": {
        "id": "Cy26W-jbq1_k"
      },
      "outputs": [],
      "source": [
        "from collections import deque\n",
        "\n",
        "# Start the graph search from root using a doubly-ended queue\n",
        "\n",
        "def isMazePossible(graph, root, goal):\n",
        "\n",
        "    # deque is list-like container with fast appends and pops on either end\n",
        "    visited, queue = set(), deque([root])\n",
        "    visited.add(root)\n",
        "    isPossible = False\n",
        "\n",
        "    # Keep exploring as long as the queue is not empty\n",
        "    while queue:\n",
        "\n",
        "        # Dequeue a vertex from queue\n",
        "        vertex = queue.popleft()\n",
        "        if vertex == goal:\n",
        "          isPossible = True\n",
        "        #print(vertex, end=\" \")\n",
        "\n",
        "        # If not visited, mark it as visited, and enqueue it\n",
        "        for neighbor in graph[vertex]:\n",
        "            if neighbor not in visited:\n",
        "                visited.add(neighbor)\n",
        "                queue.appendleft(neighbor)\n",
        "\n",
        "    if isPossible:\n",
        "      print(\"Maze Possible\")\n",
        "    else:\n",
        "      print(\"Maze not Possible\")\n"
      ]
    },
    {
      "cell_type": "markdown",
      "source": [
        "Here I will test out the code to see if it works"
      ],
      "metadata": {
        "id": "Kxdb0oZhGH33"
      }
    },
    {
      "cell_type": "code",
      "source": [
        "MazePossible = {\n",
        "  '0' : ['1', '3'],\n",
        "  '1' : ['0', '4'],\n",
        "  '2' : ['5'],\n",
        "  '3' : ['0','6'],\n",
        "  '4' : ['1', '5'],\n",
        "  '5':  ['2', '4', '8'],\n",
        "  '6' : ['3','7'],\n",
        "  '7' : ['6'],\n",
        "  '8' : ['5']\n",
        "}\n",
        "\n",
        "MazePossible = {\n",
        "  '0' : ['1', '3'],\n",
        "  '1' : ['0', '4'],\n",
        "  '2' : ['5'],\n",
        "  '3' : ['0','6'],\n",
        "  '4' : ['1', '5'],\n",
        "  '5':  ['2', '4', '8'],\n",
        "  '6' : ['3','7'],\n",
        "  '7' : ['6'],\n",
        "  '8' : ['5'],\n",
        "  '9' : ['']\n",
        "}\n",
        "\n",
        "\n",
        "isMazePossible(MazePossible,'0','7')\n",
        "print(\"---------\")\n",
        "isMazePossible(MazePossible,'0','9')"
      ],
      "metadata": {
        "colab": {
          "base_uri": "https://localhost:8080/"
        },
        "id": "bhthIND4GAv5",
        "outputId": "31783730-3521-4f4e-e95d-e3f333cff7f5"
      },
      "execution_count": 14,
      "outputs": [
        {
          "output_type": "stream",
          "name": "stdout",
          "text": [
            "Maze Possible\n",
            "---------\n",
            "Maze not Possible\n"
          ]
        }
      ]
    }
  ]
}