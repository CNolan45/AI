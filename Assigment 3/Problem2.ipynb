{
  "nbformat": 4,
  "nbformat_minor": 0,
  "metadata": {
    "colab": {
      "provenance": []
    },
    "kernelspec": {
      "name": "python3",
      "display_name": "Python 3"
    },
    "language_info": {
      "name": "python"
    }
  },
  "cells": [
    {
      "cell_type": "markdown",
      "source": [
        "#Assigment 3 - Part 2\n",
        "###XLST Artificial Intelligence D01 Spring 2024\n",
        "######*Chris Nolan*"
      ],
      "metadata": {
        "id": "u-zZImif91fS"
      }
    },
    {
      "cell_type": "markdown",
      "source": [
        "Write an algorithm that uses BFS to discover potentially missing immediate connections in a network. For example, for the network G shown at time t:\n",
        "\n",
        "* PotentialFriends(G, 'Adam') returns Sophia, Maya, David\n",
        "* PotentialFriends(G, 'David') returns Adam, Sophia\n",
        "* PotentialFriends(G, 'Sophia') returns Adam, David"
      ],
      "metadata": {
        "id": "zj0JFyPP-EPL"
      }
    },
    {
      "cell_type": "markdown",
      "source": [
        "Same as before I will modify the BFS to acomplish this task"
      ],
      "metadata": {
        "id": "vwHTPC4M-KRV"
      }
    },
    {
      "cell_type": "code",
      "execution_count": 4,
      "metadata": {
        "id": "NABU8IR-qzST"
      },
      "outputs": [],
      "source": [
        "from collections import deque\n",
        "\n",
        "# Start the graph search from root using a doubly-ended queue\n",
        "\n",
        "def PotentialFriends(graph, root):\n",
        "\n",
        "    # deque is list-like container with fast appends and pops on either end\n",
        "    visited, queue = set(), deque([root])\n",
        "    visited.add(root)\n",
        "    vertAtThisLevel = 0\n",
        "    vertAtLastLevel = 1\n",
        "    currentLevel = 0\n",
        "    currentVert = 0\n",
        "\n",
        "\n",
        "    # Keep exploring as long as the queue is not empty\n",
        "    while queue:\n",
        "\n",
        "        # Dequeue a vertex from queue\n",
        "        vertex = queue.popleft()\n",
        "        currentVert = currentVert + 1\n",
        "        if currentLevel == 2:\n",
        "          print(vertex, end=\" \")\n",
        "\n",
        "        # If not visited, mark it as visited, and enqueue it\n",
        "        for neighbor in graph[vertex]:\n",
        "            if neighbor not in visited:\n",
        "                visited.add(neighbor)\n",
        "                vertAtThisLevel = vertAtThisLevel + 1\n",
        "                queue.append(neighbor)\n",
        "\n",
        "        # print(vertex, vertAtLastLevel, currentVert)\n",
        "        if currentVert == vertAtLastLevel:\n",
        "          currentLevel = currentLevel + 1\n",
        "          currentVert = 0\n",
        "          vertAtLastLevel = vertAtThisLevel\n",
        "          vertAtThisLevel = 0\n",
        "\n"
      ]
    },
    {
      "cell_type": "markdown",
      "source": [
        "* PotentialFriends(G, 'Adam') returns Sophia, Maya, David\n",
        "* PotentialFriends(G, 'David') returns Adam, Sophia\n",
        "* PotentialFriends(G, 'Sophia') returns Adam, David"
      ],
      "metadata": {
        "id": "7h8JqH5x-Rxo"
      }
    },
    {
      "cell_type": "code",
      "source": [
        "socialNetwork = {\n",
        "'Adam': ['Maria'],\n",
        "'Maria': ['Sophia', 'Maya', 'David', 'Adam'],\n",
        "'Maya': ['Maria', 'David', 'Sophia'],\n",
        "'David': ['Maya', 'Maria'],\n",
        "'Sophia': ['Maya', 'Maria']\n",
        "}\n",
        "\n",
        "PotentialFriends(socialNetwork, 'Adam')\n",
        "print(\"\\n----------------------------\")\n",
        "PotentialFriends(socialNetwork, 'David')\n",
        "print(\"\\n----------------------------\")\n",
        "PotentialFriends(socialNetwork, 'Sophia')"
      ],
      "metadata": {
        "colab": {
          "base_uri": "https://localhost:8080/"
        },
        "id": "RVcjNiPw-ZAT",
        "outputId": "1b142c57-9bc9-4b57-ad52-2f7ac8955b1c"
      },
      "execution_count": 13,
      "outputs": [
        {
          "output_type": "stream",
          "name": "stdout",
          "text": [
            "Sophia Maya David \n",
            "----------------------------\n",
            "Sophia Adam \n",
            "----------------------------\n",
            "David Adam "
          ]
        }
      ]
    }
  ]
}